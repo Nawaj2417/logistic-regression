{
 "cells": [
  {
   "cell_type": "markdown",
   "id": "50fccb23",
   "metadata": {},
   "source": [
    "Q1. What is the purpose of grid search cv in machine learning, and how does it work?"
   ]
  },
  {
   "cell_type": "markdown",
   "id": "e7bbdb18",
   "metadata": {},
   "source": [
    "Ans: Grid search CV is a technique used in machine learning to search and find the optimal combination of hyperparameters for a given model. It systematically explores a predefined set of hyperparameter values, creating a “grid” of possible combinations1. The parameters of the estimator used to apply these methods are optimized by cross-validated grid-search over a parameter grid2."
   ]
  },
  {
   "cell_type": "markdown",
   "id": "4f9cb891",
   "metadata": {},
   "source": [
    "Q2. Describe the difference between grid search cv and randomize search cv, and when might you choose\n",
    "one over the other?"
   ]
  },
  {
   "cell_type": "markdown",
   "id": "8d5b7c28",
   "metadata": {},
   "source": [
    "Ans: Grid Search CV exhaustively searches all possible hyperparameter combinations and is suitable for smaller search spaces, while Randomized Search CV samples a subset of combinations and is more efficient for larger search spaces or when computational resources are limited. The choice between the two depends on the problem, search space size, and available resources.\n"
   ]
  },
  {
   "cell_type": "markdown",
   "id": "98b8bca8",
   "metadata": {},
   "source": [
    "Q3. What is data leakage, and why is it a problem in machine learning? Provide an example."
   ]
  },
  {
   "cell_type": "markdown",
   "id": "f6ec8b00",
   "metadata": {},
   "source": [
    "Ans: Data leakage refers to a mistake made by the creator of a machine learning model in which they accidentally share information between the test and training data-sets4. This additional information can allow the model to learn or know something that it otherwise would not know and in turn invalidate the estimated performance of the mode being constructed5. For example, if a model is trained to predict whether a patient has a certain disease based on their symptoms, but the training data also includes information about the patient’s diagnosis, then the model may simply learn to predict the diagnosis rather than actually using the symptoms to make its predictions.\n",
    "\n"
   ]
  },
  {
   "cell_type": "markdown",
   "id": "d3c6b3a5",
   "metadata": {},
   "source": [
    "Q4. How can you prevent data leakage when building a machine learning model?"
   ]
  },
  {
   "cell_type": "markdown",
   "id": "2adb5cb4",
   "metadata": {},
   "source": [
    "Ans: To prevent data leakage when building a machine learning model, it is important to carefully design the data preprocessing and feature engineering steps to ensure that no information from the test set is used when training the model. This can include techniques such as splitting the data into training and test sets before performing any preprocessing or feature engineering, and ensuring that any preprocessing or feature engineering steps are performed independently on the training and test sets."
   ]
  },
  {
   "cell_type": "markdown",
   "id": "23a2f8b7",
   "metadata": {},
   "source": [
    "Q5. What is a confusion matrix, and what does it tell you about the performance of a classification model?"
   ]
  },
  {
   "cell_type": "markdown",
   "id": "85233f7b",
   "metadata": {},
   "source": [
    "Ans:-  A confusion matrix is a summary of prediction results on a classification problem. The number of correct and incorrect predictions are summarized with count values and broken down by each class6. The confusion matrix shows the ways in which your classification model is confused when it makes predictions. It gives you insight not only into the errors being made by your classifier but more importantly the types of errors that are being made6."
   ]
  },
  {
   "cell_type": "markdown",
   "id": "22d90d3f",
   "metadata": {},
   "source": [
    "Q6. Explain the difference between precision and recall in the context of a confusion matrix."
   ]
  },
  {
   "cell_type": "markdown",
   "id": "c685084c",
   "metadata": {},
   "source": [
    "Ans:- Precision and recall are two metrics derived from a confusion matrix that provide different perspectives on the performance of a classification model. Precision is the proportion of true positive predictions out of all positive predictions, while recall is the proportion of true positive predictions out of all actual positive instances7. In other words, precision measures how many of the positive predictions made by the model are actually correct, while recall measures how many of the actual positive instances were correctly identified by the model."
   ]
  },
  {
   "cell_type": "markdown",
   "id": "5ea717e7",
   "metadata": {},
   "source": [
    "Q7. How can you interpret a confusion matrix to determine which types of errors your model is making?"
   ]
  },
  {
   "cell_type": "markdown",
   "id": "d7a5ee69",
   "metadata": {},
   "source": [
    "Ans:- You can interpret a confusion matrix to determine which types of errors your model is making by looking at the values in each cell of the matrix. The cells along the main diagonal represent correct predictions, while the off-diagonal cells represent incorrect predictions. By comparing the values in these cells, you can determine which classes are being confused with one another and how often these errors are occurring."
   ]
  },
  {
   "cell_type": "markdown",
   "id": "b66d41da",
   "metadata": {},
   "source": [
    "Q8. What are some common metrics that can be derived from a confusion matrix, and how are they\n",
    "calculated?"
   ]
  },
  {
   "cell_type": "markdown",
   "id": "6a0010f2",
   "metadata": {},
   "source": [
    "Ans:- Some common metrics that can be derived from a confusion matrix include accuracy, precision, recall, F1 score, specificity, and sensitivity8. These metrics are calculated using different combinations of the values in each cell of the confusion matrix. For example, accuracy is calculated as (TP + TN) / (TP + TN + FP + FN), where TP is the number of true positives, TN is the number of true negatives, FP is the number of false positives, and FN is the number of false negatives."
   ]
  },
  {
   "cell_type": "markdown",
   "id": "48bab271",
   "metadata": {},
   "source": [
    "Q9. What is the relationship between the accuracy of a model and the values in its confusion matrix?"
   ]
  },
  {
   "cell_type": "markdown",
   "id": "df49271f",
   "metadata": {},
   "source": [
    "Ans:- The accuracy of a model is directly related to the values in its confusion matrix. Accuracy measures how many correct predictions were made by the model out of all predictions. This can be calculated from a confusion matrix by summing up all values along its main diagonal (which represent correct predictions) and dividing by total number of instances."
   ]
  },
  {
   "cell_type": "markdown",
   "id": "9a063579",
   "metadata": {},
   "source": [
    "Q10. How can you use a confusion matrix to identify potential biases or limitations in your machine learning\n",
    "model?"
   ]
  },
  {
   "cell_type": "markdown",
   "id": "6cd50a6d",
   "metadata": {},
   "source": [
    "Ans:- You can use a confusion matrix to identify potential biases or limitations in your machine learning model by examining its performance across different classes or groups. If you notice that your model performs better on some classes than others or if certain types of errors occur more frequently than others, this may indicate that your model has biases or limitations that need to be addressed."
   ]
  },
  {
   "cell_type": "code",
   "execution_count": null,
   "id": "51aa9f90",
   "metadata": {},
   "outputs": [],
   "source": []
  }
 ],
 "metadata": {
  "kernelspec": {
   "display_name": "Python 3 (ipykernel)",
   "language": "python",
   "name": "python3"
  },
  "language_info": {
   "codemirror_mode": {
    "name": "ipython",
    "version": 3
   },
   "file_extension": ".py",
   "mimetype": "text/x-python",
   "name": "python",
   "nbconvert_exporter": "python",
   "pygments_lexer": "ipython3",
   "version": "3.11.4"
  }
 },
 "nbformat": 4,
 "nbformat_minor": 5
}
